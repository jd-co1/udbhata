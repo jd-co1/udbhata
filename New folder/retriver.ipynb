{
 "cells": [
  {
   "cell_type": "code",
   "execution_count": 37,
   "metadata": {},
   "outputs": [],
   "source": [
    "from dotenv import load_dotenv\n",
    "load_dotenv()\n",
    "import os"
   ]
  },
  {
   "cell_type": "code",
   "execution_count": 38,
   "metadata": {},
   "outputs": [],
   "source": [
    "from langchain.embeddings.openai import OpenAIEmbeddings\n",
    "\n",
    "model_name = 'text-embedding-ada-002'\n",
    "\n",
    "embed = OpenAIEmbeddings(\n",
    "    model=model_name,\n",
    "   \n",
    ")"
   ]
  },
  {
   "cell_type": "code",
   "execution_count": 39,
   "metadata": {},
   "outputs": [
    {
     "name": "stderr",
     "output_type": "stream",
     "text": [
      "c:\\Users\\sheik jaheer\\OneDrive\\Desktop\\TYNYBAY\\udbhata\\udbhata-poc-main\\myenv\\Lib\\site-packages\\langchain_community\\vectorstores\\pinecone.py:73: UserWarning: Passing in `embedding` as a Callable is deprecated. Please pass in an Embeddings object instead.\n",
      "  warnings.warn(\n"
     ]
    }
   ],
   "source": [
    "import pinecone\n",
    "from langchain.vectorstores import Pinecone\n",
    "# find API key in console at app.pinecone.io\n",
    "YOUR_API_KEY = \"0c63694c-7756-401b-a897-03616f43acf9\"\n",
    "# find ENV (cloud region) next to API key in console\n",
    "YOUR_ENV = \"gcp-starter\"\n",
    "index_name = 'udbhata'\n",
    "embeddings = OpenAIEmbeddings()\n",
    "pinecone.init(\n",
    "    api_key=YOUR_API_KEY,\n",
    "    environment=YOUR_ENV\n",
    ")\n",
    "index = pinecone.Index(index_name)\n",
    "\n",
    "vectorstore = Pinecone(\n",
    "    index, embeddings.embed_query, text_key=\"text\"\n",
    ")"
   ]
  },
  {
   "cell_type": "code",
   "execution_count": 46,
   "metadata": {},
   "outputs": [],
   "source": [
    "from langchain.chains import RetrievalQA\n",
    "from langchain.prompts import PromptTemplate\n",
    "from langchain.chat_models import ChatOpenAI\n",
    "model_name = \"gpt-3.5-turbo\"\n",
    "llm = ChatOpenAI(model_name=model_name,temperature=0)\n",
    "# Build prompt\n",
    "template = \"\"\"You are an assistant of a company and you are generating annual  report for current year about profit,loss and revenue ,etc .\n",
    "Use the following pieces of context to answer the question at the end. If you don't know the answer,\n",
    "just say that you don't know, don't try to make up an answer. \n",
    " generate the accurate values along with corresponding currency and don't generate description for the question,generate only the values and currency type Example: Profit before tax : 123,874 INR ,if you don't have value just say NA\n",
    " and the answer should be from the context given below and it should be exact match.\n",
    "{context}\n",
    "Question: {question}\n",
    "Helpful Answer:\"\"\"\n",
    "QA_CHAIN_PROMPT = PromptTemplate.from_template(template)# Run chain\n",
    "qa_chain = RetrievalQA.from_chain_type(\n",
    "    llm,\n",
    "    retriever=vectorstore.as_retriever(),\n",
    "    return_source_documents=True,\n",
    "    chain_type_kwargs={\"prompt\": QA_CHAIN_PROMPT}\n",
    ")"
   ]
  },
  {
   "cell_type": "code",
   "execution_count": 47,
   "metadata": {},
   "outputs": [
    {
     "name": "stdout",
     "output_type": "stream",
     "text": [
      "answer: 1. profitNet Sales or Revenue or Revenue from operations: Rs. 26,524 lakhs\n",
      "2. PBT or Profit before tax: Rs. 4,654 lakhs\n",
      "3. Total assets: NA\n",
      "4. Total Liabilities: NA\n",
      "5. EBITDA or Earnings before tax: Rs. 5,950 lakhs\n",
      "6. Net debt: NA\n",
      "7. Total equity: NA\n",
      "8. Current Investments: NA\n",
      "9. Return on capital employed: NA\n",
      "10. Debt-equity ratio: NA\n",
      "11. Does the company have a formal board diversity policy that clearly requires diversity factors such as gender, race, ethnicity, country of origin, nationality or cultural background in the board nomination process? No\n",
      "12. Has the company conducted a materiality analysis to identify the most important material issues (economic, environmental, or social) for the company's performance? Yes\n",
      "13. Does the company publicly disclose details of the materiality analysis, including information on how they conduct the materiality analysis process and progress towards targets or metrics? No\n",
      "14. Does the company have Risk Management Committee? Yes\n",
      "15. Does the company identify emerging risks, and give the mitigation plans for the risks? No\n",
      "16. Does the company have a Supplier Code of Conduct and is it publicly available? No\n",
      "17. Awards for Finance, Risk, Sustainability or Governance: NA\n",
      "18. Board experience in Risk Management: NA\n",
      "19. Female Employees share: NA\n",
      "20. Corruption perception index: NA\n",
      "source:\n",
      "1 https://www.drreddys.com/cms/cms/sites/default/files/2023-08/SubsidiaryFinancialsPartA.pdf\n",
      "\n",
      "2 https://www.drreddys.com/cms/cms/sites/default/files/2023-08/SubsidiaryFinancialsPartA.pdf\n",
      "\n",
      "3 https://www.drreddys.com/cms/cms/sites/default/files/2023-07/Subsidiary%20Financials%20Part%20D.pdf\n",
      "\n",
      "4 https://www.drreddys.com/cms/cms/sites/default/files/2023-07/Dr.%20Reddy%E2%80%99s%20Integrated%20Annual%20Report%202022-23_0.pdf\n",
      "\n"
     ]
    }
   ],
   "source": [
    "question = \"\"\"\n",
    "Generate the annual report of the company for below mentioned points\n",
    "1. profitNet Sales or Revenue or Revenue from operations(profitNet_sales)\n",
    "2. PBT or Profit before tax (PBT_Profit)\n",
    "3. Total assets (Total_assets)\n",
    "4. Total Liabilities (Total_liabilities)\n",
    "5. EBITDA or Earnings before tax (EBITDA)\n",
    "6. Net debt (Net_debt)\n",
    "7. Total equity (Total_equity)\n",
    "8. Current Investments (Current_investments)\n",
    "9. Return on capital employed (ROCE)\n",
    "10. Debt-equity ratio (Debt_equity_ratio)\n",
    "11. Does  the company have a formal board diversity policy that clearly requires diversity factors such as gender, race, ethnicity, country of origin, nationality or cultural background in the board nomination process? (Board_diversity_policy), if you have the data mention yes or no\n",
    "12. Has the company conducted a materiality analysis to identify the most important material issues (economic, environmental, or social) for the company's performance? (Materiality_analysis), if you have the data mention yes or no\n",
    "13. Does the company publicly disclose details of the materiality analysis, including information on how they conduct the materiality analysis process and progress towards targets or metrics? (Materiality_analysis_details), if you have the data mention yes or no\n",
    "14. Does the company have Risk Management Committee. (Risk_management_committee), if you have the data mention yes or no\n",
    "15. Does the company identify emerging risks, and give the mitigation plans for the risks? (Emerging_risks), if you have the data mention yes or no\n",
    "16. Does the company have a Supplier Code of Conduct and is it publicly available? (Supplier_code_of_conduct), if you have the data mention yes or no\n",
    "17. Awards for Finance, Risk, Sustainability or Governance(awards)\n",
    "18. Board experience in Risk Management(Board_experience_in_Risk_Management).value in percentage\n",
    "19. Female Employees share(female_emp_share).value in percentage\n",
    "20. Corruption perception index (corruption_perception_index)\n",
    "\"\"\"\n",
    "resp = qa_chain({\"query\": question})\n",
    "print(\"answer:\",resp[\"result\"])\n",
    "print(\"source:\",)\n",
    "for i,doc in enumerate(resp[\"source_documents\"]):\n",
    "    print(i+1,doc.metadata[\"source\"])\n",
    "    print(\"\")"
   ]
  },
  {
   "cell_type": "code",
   "execution_count": 45,
   "metadata": {},
   "outputs": [
    {
     "name": "stdout",
     "output_type": "stream",
     "text": [
      "answer: PBT or Profit before tax (PBT_Profit) for the current year is $123,874.\n"
     ]
    }
   ],
   "source": [
    "question2=\"\"\"PBT or Profit before tax (PBT_Profit)\"\"\"\n",
    "question1 = \"\"\"Does the company have a Supplier Code of Conduct and is it publicly available? (Supplier_code_of_conduct), if you have the data mention yes or no\"\"\"\n",
    "resp = qa_chain({\"query\": question2})\n",
    "print(\"answer:\",resp[\"result\"])"
   ]
  },
  {
   "cell_type": "code",
   "execution_count": null,
   "metadata": {},
   "outputs": [],
   "source": []
  }
 ],
 "metadata": {
  "kernelspec": {
   "display_name": "Python 3",
   "language": "python",
   "name": "python3"
  },
  "language_info": {
   "codemirror_mode": {
    "name": "ipython",
    "version": 3
   },
   "file_extension": ".py",
   "mimetype": "text/x-python",
   "name": "python",
   "nbconvert_exporter": "python",
   "pygments_lexer": "ipython3",
   "version": "3.11.4"
  }
 },
 "nbformat": 4,
 "nbformat_minor": 2
}
